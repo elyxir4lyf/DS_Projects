{
 "cells": [
  {
   "cell_type": "markdown",
   "id": "837554ae",
   "metadata": {},
   "source": [
    "# Project - Guide school to activities to improve G3 grades"
   ]
  },
  {
   "cell_type": "markdown",
   "id": "7524422c",
   "metadata": {},
   "source": [
    "<br>\n",
    "\n",
    "## Goal of Project\n",
    "- The goal could be to identify factors that have a significant impact on students' G3 scores. \n",
    "- With this information, the school can develop targeted interventions and strategies to improve students' academic performance. - The recommendations given can be tailored to address specific areas such and the strategies could be developed to provide equal opportunities for all students, regardless of their gender, age, travel time, or access to resources like internet and paid classes.\n",
    "- Ultimately, the goal is to showcase how I am able to follow the Data Science path to solving a problem; which in this case is enhancin the overall academic performance and well-being of students by leveraging the insights gained from the analysis and implementing evidence-based interventions. \n",
    "\n",
    "\n",
    "<b><u>Note:</u></b> No visiualization was planned for this project"
   ]
  },
  {
   "cell_type": "markdown",
   "id": "17134954",
   "metadata": {},
   "source": [
    "## Step 1: Acquire\n",
    "- Explore problem, Identify data and Import data"
   ]
  },
  {
   "cell_type": "code",
   "execution_count": 1,
   "id": "d787beb5",
   "metadata": {},
   "outputs": [],
   "source": [
    "# Importing the liabraries\n",
    "import warnings\n",
    "warnings.filterwarnings('ignore')\n",
    "\n",
    "import pandas as pd"
   ]
  },
  {
   "cell_type": "code",
   "execution_count": 2,
   "id": "d01011fd",
   "metadata": {},
   "outputs": [],
   "source": [
    "# Read data into frame\n",
    "df = pd.read_csv('files/student-mat.csv')"
   ]
  },
  {
   "cell_type": "code",
   "execution_count": 3,
   "id": "8b74e6ff",
   "metadata": {},
   "outputs": [
    {
     "data": {
      "text/html": [
       "<div>\n",
       "<style scoped>\n",
       "    .dataframe tbody tr th:only-of-type {\n",
       "        vertical-align: middle;\n",
       "    }\n",
       "\n",
       "    .dataframe tbody tr th {\n",
       "        vertical-align: top;\n",
       "    }\n",
       "\n",
       "    .dataframe thead th {\n",
       "        text-align: right;\n",
       "    }\n",
       "</style>\n",
       "<table border=\"1\" class=\"dataframe\">\n",
       "  <thead>\n",
       "    <tr style=\"text-align: right;\">\n",
       "      <th></th>\n",
       "      <th>school</th>\n",
       "      <th>sex</th>\n",
       "      <th>age</th>\n",
       "      <th>address</th>\n",
       "      <th>famsize</th>\n",
       "      <th>Pstatus</th>\n",
       "      <th>Medu</th>\n",
       "      <th>Fedu</th>\n",
       "      <th>Mjob</th>\n",
       "      <th>Fjob</th>\n",
       "      <th>...</th>\n",
       "      <th>famrel</th>\n",
       "      <th>freetime</th>\n",
       "      <th>goout</th>\n",
       "      <th>Dalc</th>\n",
       "      <th>Walc</th>\n",
       "      <th>health</th>\n",
       "      <th>absences</th>\n",
       "      <th>G1</th>\n",
       "      <th>G2</th>\n",
       "      <th>G3</th>\n",
       "    </tr>\n",
       "  </thead>\n",
       "  <tbody>\n",
       "    <tr>\n",
       "      <th>0</th>\n",
       "      <td>GP</td>\n",
       "      <td>F</td>\n",
       "      <td>18</td>\n",
       "      <td>U</td>\n",
       "      <td>GT3</td>\n",
       "      <td>A</td>\n",
       "      <td>4</td>\n",
       "      <td>4</td>\n",
       "      <td>at_home</td>\n",
       "      <td>teacher</td>\n",
       "      <td>...</td>\n",
       "      <td>4</td>\n",
       "      <td>3</td>\n",
       "      <td>4</td>\n",
       "      <td>1</td>\n",
       "      <td>1</td>\n",
       "      <td>3</td>\n",
       "      <td>6</td>\n",
       "      <td>5</td>\n",
       "      <td>6</td>\n",
       "      <td>6</td>\n",
       "    </tr>\n",
       "    <tr>\n",
       "      <th>1</th>\n",
       "      <td>GP</td>\n",
       "      <td>F</td>\n",
       "      <td>17</td>\n",
       "      <td>U</td>\n",
       "      <td>GT3</td>\n",
       "      <td>T</td>\n",
       "      <td>1</td>\n",
       "      <td>1</td>\n",
       "      <td>at_home</td>\n",
       "      <td>other</td>\n",
       "      <td>...</td>\n",
       "      <td>5</td>\n",
       "      <td>3</td>\n",
       "      <td>3</td>\n",
       "      <td>1</td>\n",
       "      <td>1</td>\n",
       "      <td>3</td>\n",
       "      <td>4</td>\n",
       "      <td>5</td>\n",
       "      <td>5</td>\n",
       "      <td>6</td>\n",
       "    </tr>\n",
       "    <tr>\n",
       "      <th>2</th>\n",
       "      <td>GP</td>\n",
       "      <td>F</td>\n",
       "      <td>15</td>\n",
       "      <td>U</td>\n",
       "      <td>LE3</td>\n",
       "      <td>T</td>\n",
       "      <td>1</td>\n",
       "      <td>1</td>\n",
       "      <td>at_home</td>\n",
       "      <td>other</td>\n",
       "      <td>...</td>\n",
       "      <td>4</td>\n",
       "      <td>3</td>\n",
       "      <td>2</td>\n",
       "      <td>2</td>\n",
       "      <td>3</td>\n",
       "      <td>3</td>\n",
       "      <td>10</td>\n",
       "      <td>7</td>\n",
       "      <td>8</td>\n",
       "      <td>10</td>\n",
       "    </tr>\n",
       "    <tr>\n",
       "      <th>3</th>\n",
       "      <td>GP</td>\n",
       "      <td>F</td>\n",
       "      <td>15</td>\n",
       "      <td>U</td>\n",
       "      <td>GT3</td>\n",
       "      <td>T</td>\n",
       "      <td>4</td>\n",
       "      <td>2</td>\n",
       "      <td>health</td>\n",
       "      <td>services</td>\n",
       "      <td>...</td>\n",
       "      <td>3</td>\n",
       "      <td>2</td>\n",
       "      <td>2</td>\n",
       "      <td>1</td>\n",
       "      <td>1</td>\n",
       "      <td>5</td>\n",
       "      <td>2</td>\n",
       "      <td>15</td>\n",
       "      <td>14</td>\n",
       "      <td>15</td>\n",
       "    </tr>\n",
       "    <tr>\n",
       "      <th>4</th>\n",
       "      <td>GP</td>\n",
       "      <td>F</td>\n",
       "      <td>16</td>\n",
       "      <td>U</td>\n",
       "      <td>GT3</td>\n",
       "      <td>T</td>\n",
       "      <td>3</td>\n",
       "      <td>3</td>\n",
       "      <td>other</td>\n",
       "      <td>other</td>\n",
       "      <td>...</td>\n",
       "      <td>4</td>\n",
       "      <td>3</td>\n",
       "      <td>2</td>\n",
       "      <td>1</td>\n",
       "      <td>2</td>\n",
       "      <td>5</td>\n",
       "      <td>4</td>\n",
       "      <td>6</td>\n",
       "      <td>10</td>\n",
       "      <td>10</td>\n",
       "    </tr>\n",
       "  </tbody>\n",
       "</table>\n",
       "<p>5 rows × 33 columns</p>\n",
       "</div>"
      ],
      "text/plain": [
       "  school sex  age address famsize Pstatus  Medu  Fedu     Mjob      Fjob  ...   \n",
       "0     GP   F   18       U     GT3       A     4     4  at_home   teacher  ...  \\\n",
       "1     GP   F   17       U     GT3       T     1     1  at_home     other  ...   \n",
       "2     GP   F   15       U     LE3       T     1     1  at_home     other  ...   \n",
       "3     GP   F   15       U     GT3       T     4     2   health  services  ...   \n",
       "4     GP   F   16       U     GT3       T     3     3    other     other  ...   \n",
       "\n",
       "  famrel freetime  goout  Dalc  Walc health absences  G1  G2  G3  \n",
       "0      4        3      4     1     1      3        6   5   6   6  \n",
       "1      5        3      3     1     1      3        4   5   5   6  \n",
       "2      4        3      2     2     3      3       10   7   8  10  \n",
       "3      3        2      2     1     1      5        2  15  14  15  \n",
       "4      4        3      2     1     2      5        4   6  10  10  \n",
       "\n",
       "[5 rows x 33 columns]"
      ]
     },
     "execution_count": 3,
     "metadata": {},
     "output_type": "execute_result"
    }
   ],
   "source": [
    "# Inspect the data\n",
    "df.head()"
   ]
  },
  {
   "cell_type": "code",
   "execution_count": 4,
   "id": "9c2f6aca",
   "metadata": {},
   "outputs": [
    {
     "name": "stdout",
     "output_type": "stream",
     "text": [
      "<class 'pandas.core.frame.DataFrame'>\n",
      "RangeIndex: 395 entries, 0 to 394\n",
      "Data columns (total 33 columns):\n",
      " #   Column      Non-Null Count  Dtype \n",
      "---  ------      --------------  ----- \n",
      " 0   school      395 non-null    object\n",
      " 1   sex         395 non-null    object\n",
      " 2   age         395 non-null    int64 \n",
      " 3   address     395 non-null    object\n",
      " 4   famsize     395 non-null    object\n",
      " 5   Pstatus     395 non-null    object\n",
      " 6   Medu        395 non-null    int64 \n",
      " 7   Fedu        395 non-null    int64 \n",
      " 8   Mjob        395 non-null    object\n",
      " 9   Fjob        395 non-null    object\n",
      " 10  reason      395 non-null    object\n",
      " 11  guardian    395 non-null    object\n",
      " 12  traveltime  395 non-null    int64 \n",
      " 13  studytime   395 non-null    int64 \n",
      " 14  failures    395 non-null    int64 \n",
      " 15  schoolsup   395 non-null    object\n",
      " 16  famsup      395 non-null    object\n",
      " 17  paid        395 non-null    object\n",
      " 18  activities  395 non-null    object\n",
      " 19  nursery     395 non-null    object\n",
      " 20  higher      395 non-null    object\n",
      " 21  internet    395 non-null    object\n",
      " 22  romantic    395 non-null    object\n",
      " 23  famrel      395 non-null    int64 \n",
      " 24  freetime    395 non-null    int64 \n",
      " 25  goout       395 non-null    int64 \n",
      " 26  Dalc        395 non-null    int64 \n",
      " 27  Walc        395 non-null    int64 \n",
      " 28  health      395 non-null    int64 \n",
      " 29  absences    395 non-null    int64 \n",
      " 30  G1          395 non-null    int64 \n",
      " 31  G2          395 non-null    int64 \n",
      " 32  G3          395 non-null    int64 \n",
      "dtypes: int64(16), object(17)\n",
      "memory usage: 102.0+ KB\n"
     ]
    }
   ],
   "source": [
    "# Checking the data\n",
    "df.info()"
   ]
  },
  {
   "cell_type": "markdown",
   "id": "eb0eac44",
   "metadata": {},
   "source": [
    "## Step 2: Prepare\n",
    "- Explore and Cleaning data, if neccessary"
   ]
  },
  {
   "cell_type": "code",
   "execution_count": 5,
   "id": "0783a18d",
   "metadata": {},
   "outputs": [
    {
     "data": {
      "text/plain": [
       "school        object\n",
       "sex           object\n",
       "age            int64\n",
       "address       object\n",
       "famsize       object\n",
       "Pstatus       object\n",
       "Medu           int64\n",
       "Fedu           int64\n",
       "Mjob          object\n",
       "Fjob          object\n",
       "reason        object\n",
       "guardian      object\n",
       "traveltime     int64\n",
       "studytime      int64\n",
       "failures       int64\n",
       "schoolsup     object\n",
       "famsup        object\n",
       "paid          object\n",
       "activities    object\n",
       "nursery       object\n",
       "higher        object\n",
       "internet      object\n",
       "romantic      object\n",
       "famrel         int64\n",
       "freetime       int64\n",
       "goout          int64\n",
       "Dalc           int64\n",
       "Walc           int64\n",
       "health         int64\n",
       "absences       int64\n",
       "G1             int64\n",
       "G2             int64\n",
       "G3             int64\n",
       "dtype: object"
      ]
     },
     "execution_count": 5,
     "metadata": {},
     "output_type": "execute_result"
    }
   ],
   "source": [
    "# Checking the datatype\n",
    "df.dtypes"
   ]
  },
  {
   "cell_type": "code",
   "execution_count": 6,
   "id": "43ba9b72",
   "metadata": {},
   "outputs": [
    {
     "data": {
      "text/plain": [
       "school        False\n",
       "sex           False\n",
       "age           False\n",
       "address       False\n",
       "famsize       False\n",
       "Pstatus       False\n",
       "Medu          False\n",
       "Fedu          False\n",
       "Mjob          False\n",
       "Fjob          False\n",
       "reason        False\n",
       "guardian      False\n",
       "traveltime    False\n",
       "studytime     False\n",
       "failures      False\n",
       "schoolsup     False\n",
       "famsup        False\n",
       "paid          False\n",
       "activities    False\n",
       "nursery       False\n",
       "higher        False\n",
       "internet      False\n",
       "romantic      False\n",
       "famrel        False\n",
       "freetime      False\n",
       "goout         False\n",
       "Dalc          False\n",
       "Walc          False\n",
       "health        False\n",
       "absences      False\n",
       "G1            False\n",
       "G2            False\n",
       "G3            False\n",
       "dtype: bool"
      ]
     },
     "execution_count": 6,
     "metadata": {},
     "output_type": "execute_result"
    }
   ],
   "source": [
    "# Checking for null (missing) values\n",
    "df.isnull().any()"
   ]
  },
  {
   "cell_type": "markdown",
   "id": "c3165816",
   "metadata": {},
   "source": [
    "## Step 3: Analyze\n",
    "- Feature selection\n",
    "- Model selection\n",
    "- Analyze data"
   ]
  },
  {
   "cell_type": "markdown",
   "id": "6422b3c0",
   "metadata": {},
   "source": [
    "### Description\n",
    "- determine the features I use in the report\n",
    "- The 3 features should be selected based on\n",
    "    - Actionable insights\n",
    "    - Convey credibility in report\n",
    "    - What is realistic within possibilities"
   ]
  },
  {
   "cell_type": "code",
   "execution_count": 7,
   "id": "4457bcfa",
   "metadata": {},
   "outputs": [
    {
     "data": {
      "text/plain": [
       "age          -0.161579\n",
       "Medu          0.217147\n",
       "Fedu          0.152457\n",
       "traveltime   -0.117142\n",
       "studytime     0.097820\n",
       "failures     -0.360415\n",
       "famrel        0.051363\n",
       "freetime      0.011307\n",
       "goout        -0.132791\n",
       "Dalc         -0.054660\n",
       "Walc         -0.051939\n",
       "health       -0.061335\n",
       "absences      0.034247\n",
       "G1            0.801468\n",
       "G2            0.904868\n",
       "G3            1.000000\n",
       "Name: G3, dtype: float64"
      ]
     },
     "execution_count": 7,
     "metadata": {},
     "output_type": "execute_result"
    }
   ],
   "source": [
    "# Finding the correlation of all numerical attribute againt the Target variable\n",
    "df_num_value = df.select_dtypes(include = 'number')\n",
    "\n",
    "df_num_value.corr()['G3']"
   ]
  },
  {
   "cell_type": "code",
   "execution_count": 8,
   "id": "f5099bd8",
   "metadata": {},
   "outputs": [
    {
     "data": {
      "text/plain": [
       "Index(['school', 'sex', 'age', 'address', 'famsize', 'Pstatus', 'Medu', 'Fedu',\n",
       "       'Mjob', 'Fjob', 'reason', 'guardian', 'traveltime', 'studytime',\n",
       "       'failures', 'schoolsup', 'famsup', 'paid', 'activities', 'nursery',\n",
       "       'higher', 'internet', 'romantic', 'famrel', 'freetime', 'goout', 'Dalc',\n",
       "       'Walc', 'health', 'absences', 'G1', 'G2', 'G3'],\n",
       "      dtype='object')"
      ]
     },
     "execution_count": 8,
     "metadata": {},
     "output_type": "execute_result"
    }
   ],
   "source": [
    "# Get feature names\n",
    "df.columns"
   ]
  },
  {
   "cell_type": "markdown",
   "id": "77ec5a6d",
   "metadata": {},
   "source": [
    "### Step 3.c: Investigate features\n",
    "- Calculate the **.groupby()** **.mean()** on **G3**\n",
    "- Calculate the **.groupby()** **.count()** on **G3**\n",
    "- Calculate the **.groupby()** **.std()** on **G3**\n",
    "- I'll repeat this step for various features"
   ]
  },
  {
   "cell_type": "markdown",
   "id": "76c9e2ae",
   "metadata": {},
   "source": [
    "#### School\n",
    "##### Student's school (binary: 'GP' - Gabriel Pereira or 'MS' - Mousinho da Silveira"
   ]
  },
  {
   "cell_type": "code",
   "execution_count": 9,
   "id": "a9bdd49b",
   "metadata": {
    "scrolled": false
   },
   "outputs": [
    {
     "data": {
      "text/plain": [
       "school\n",
       "GP    349\n",
       "MS     46\n",
       "Name: G3, dtype: int64"
      ]
     },
     "execution_count": 9,
     "metadata": {},
     "output_type": "execute_result"
    }
   ],
   "source": [
    "# Determining the numbers of students in each school\n",
    "df.groupby('school').count()['G3']"
   ]
  },
  {
   "cell_type": "code",
   "execution_count": 10,
   "id": "2b773b06",
   "metadata": {},
   "outputs": [
    {
     "data": {
      "text/plain": [
       "school\n",
       "GP    10.489971\n",
       "MS     9.847826\n",
       "Name: G3, dtype: float64"
      ]
     },
     "execution_count": 10,
     "metadata": {},
     "output_type": "execute_result"
    }
   ],
   "source": [
    "# get the mean of G3\n",
    "df.groupby(\"school\")['G3'].mean()"
   ]
  },
  {
   "cell_type": "code",
   "execution_count": 11,
   "id": "bf7c5dab",
   "metadata": {},
   "outputs": [
    {
     "data": {
      "text/plain": [
       "school\n",
       "GP    4.625397\n",
       "MS    4.237229\n",
       "Name: G3, dtype: float64"
      ]
     },
     "execution_count": 11,
     "metadata": {},
     "output_type": "execute_result"
    }
   ],
   "source": [
    "df.groupby(\"school\")['G3'].std()"
   ]
  },
  {
   "cell_type": "markdown",
   "id": "3b68b0fa",
   "metadata": {},
   "source": [
    "#### Sex\n",
    "##### Student's sex (binary: 'F' - female or 'M' - male)"
   ]
  },
  {
   "cell_type": "code",
   "execution_count": 12,
   "id": "70589c9f",
   "metadata": {},
   "outputs": [
    {
     "data": {
      "text/plain": [
       "sex\n",
       "F     9.966346\n",
       "M    10.914439\n",
       "Name: G3, dtype: float64"
      ]
     },
     "execution_count": 12,
     "metadata": {},
     "output_type": "execute_result"
    }
   ],
   "source": [
    "df.groupby('sex')['G3'].mean()"
   ]
  },
  {
   "cell_type": "code",
   "execution_count": 13,
   "id": "d648ef22",
   "metadata": {},
   "outputs": [
    {
     "data": {
      "text/plain": [
       "sex\n",
       "F    208\n",
       "M    187\n",
       "Name: G3, dtype: int64"
      ]
     },
     "execution_count": 13,
     "metadata": {},
     "output_type": "execute_result"
    }
   ],
   "source": [
    "df.groupby('sex')['G3'].count()"
   ]
  },
  {
   "cell_type": "code",
   "execution_count": 14,
   "id": "00893a69",
   "metadata": {},
   "outputs": [
    {
     "data": {
      "text/plain": [
       "sex\n",
       "F    4.622338\n",
       "M    4.495297\n",
       "Name: G3, dtype: float64"
      ]
     },
     "execution_count": 14,
     "metadata": {},
     "output_type": "execute_result"
    }
   ],
   "source": [
    "df.groupby('sex')['G3'].std()"
   ]
  },
  {
   "cell_type": "markdown",
   "id": "45b2f9af",
   "metadata": {},
   "source": [
    "#### Age\n",
    "##### Student's age (numeric: from 15 to 22)"
   ]
  },
  {
   "cell_type": "code",
   "execution_count": 33,
   "id": "1e6ccbaa",
   "metadata": {},
   "outputs": [
    {
     "data": {
      "text/plain": [
       "age\n",
       "15    11.256098\n",
       "16    11.028846\n",
       "17    10.275510\n",
       "18     9.548780\n",
       "19     8.208333\n",
       "20    14.000000\n",
       "21     7.000000\n",
       "22     8.000000\n",
       "Name: G3, dtype: float64"
      ]
     },
     "execution_count": 33,
     "metadata": {},
     "output_type": "execute_result"
    }
   ],
   "source": [
    "df.groupby('age')['G3'].mean()"
   ]
  },
  {
   "cell_type": "code",
   "execution_count": 38,
   "id": "4517a678",
   "metadata": {},
   "outputs": [
    {
     "data": {
      "text/plain": [
       "age\n",
       "15     82\n",
       "16    104\n",
       "17     98\n",
       "18     82\n",
       "19     24\n",
       "20      3\n",
       "21      1\n",
       "22      1\n",
       "Name: G3, dtype: int64"
      ]
     },
     "execution_count": 38,
     "metadata": {},
     "output_type": "execute_result"
    }
   ],
   "source": [
    "df.groupby('age')['G3'].count()"
   ]
  },
  {
   "cell_type": "code",
   "execution_count": 39,
   "id": "4f48774f",
   "metadata": {},
   "outputs": [
    {
     "data": {
      "text/plain": [
       "age\n",
       "15    4.596861\n",
       "16    4.282402\n",
       "17    4.290437\n",
       "18    4.994200\n",
       "19    4.606037\n",
       "20    4.582576\n",
       "21         NaN\n",
       "22         NaN\n",
       "Name: G3, dtype: float64"
      ]
     },
     "execution_count": 39,
     "metadata": {},
     "output_type": "execute_result"
    }
   ],
   "source": [
    "df.groupby('age')['G3'].std()"
   ]
  },
  {
   "cell_type": "markdown",
   "id": "0da31cf8",
   "metadata": {},
   "source": [
    "#### Travel Time\n",
    "##### Home to school travel time (numeric: 1: <15 min., 2: 15-30 min., 3: 30 min. - 1 hour, or 4: >1 hour)"
   ]
  },
  {
   "cell_type": "code",
   "execution_count": 69,
   "id": "a4aca46e",
   "metadata": {},
   "outputs": [
    {
     "data": {
      "text/plain": [
       "traveltime\n",
       "1    10.782101\n",
       "2     9.906542\n",
       "3     9.260870\n",
       "4     8.750000\n",
       "Name: G3, dtype: float64"
      ]
     },
     "execution_count": 69,
     "metadata": {},
     "output_type": "execute_result"
    }
   ],
   "source": [
    "df.groupby('traveltime')['G3'].mean()"
   ]
  },
  {
   "cell_type": "code",
   "execution_count": 72,
   "id": "466c5856",
   "metadata": {},
   "outputs": [
    {
     "data": {
      "text/plain": [
       "traveltime\n",
       "1    257\n",
       "2    107\n",
       "3     23\n",
       "4      8\n",
       "Name: G3, dtype: int64"
      ]
     },
     "execution_count": 72,
     "metadata": {},
     "output_type": "execute_result"
    }
   ],
   "source": [
    "df.groupby('traveltime')['G3'].count()"
   ]
  },
  {
   "cell_type": "code",
   "execution_count": 73,
   "id": "3933fcf1",
   "metadata": {},
   "outputs": [
    {
     "data": {
      "text/plain": [
       "traveltime\n",
       "1    4.523289\n",
       "2    4.600108\n",
       "3    5.074154\n",
       "4    3.918819\n",
       "Name: G3, dtype: float64"
      ]
     },
     "execution_count": 73,
     "metadata": {},
     "output_type": "execute_result"
    }
   ],
   "source": [
    "df.groupby('traveltime')['G3'].std()"
   ]
  },
  {
   "cell_type": "markdown",
   "id": "3c56671f",
   "metadata": {},
   "source": [
    "#### Study Time\n",
    "##### Weekly study time (numeric: 1: <2 hours, 2: 2 to 5 hours, 3: 5 to 10 hours, or 4: >10 hours)"
   ]
  },
  {
   "cell_type": "code",
   "execution_count": 74,
   "id": "db3e452f",
   "metadata": {},
   "outputs": [
    {
     "data": {
      "text/plain": [
       "studytime\n",
       "1    10.047619\n",
       "2    10.171717\n",
       "3    11.400000\n",
       "4    11.259259\n",
       "Name: G3, dtype: float64"
      ]
     },
     "execution_count": 74,
     "metadata": {},
     "output_type": "execute_result"
    }
   ],
   "source": [
    "df.groupby('studytime')['G3'].mean()"
   ]
  },
  {
   "cell_type": "code",
   "execution_count": 75,
   "id": "342eb184",
   "metadata": {},
   "outputs": [
    {
     "data": {
      "text/plain": [
       "studytime\n",
       "1    105\n",
       "2    198\n",
       "3     65\n",
       "4     27\n",
       "Name: G3, dtype: int64"
      ]
     },
     "execution_count": 75,
     "metadata": {},
     "output_type": "execute_result"
    }
   ],
   "source": [
    "df.groupby('studytime')['G3'].count()"
   ]
  },
  {
   "cell_type": "code",
   "execution_count": 76,
   "id": "0b2cfe63",
   "metadata": {},
   "outputs": [
    {
     "data": {
      "text/plain": [
       "studytime\n",
       "1    4.956311\n",
       "2    4.217537\n",
       "3    4.639504\n",
       "4    5.281263\n",
       "Name: G3, dtype: float64"
      ]
     },
     "execution_count": 76,
     "metadata": {},
     "output_type": "execute_result"
    }
   ],
   "source": [
    "df.groupby('studytime')['G3'].std()"
   ]
  },
  {
   "cell_type": "markdown",
   "id": "9879c329",
   "metadata": {},
   "source": [
    "#### Impact of past Failures\n",
    "##### The number of past class failures (numeric: n if 1<=n<3, else 4)"
   ]
  },
  {
   "cell_type": "code",
   "execution_count": 81,
   "id": "9edf3c60",
   "metadata": {},
   "outputs": [
    {
     "data": {
      "text/plain": [
       "failures\n",
       "0    11.253205\n",
       "1     8.120000\n",
       "2     6.235294\n",
       "3     5.687500\n",
       "Name: G3, dtype: float64"
      ]
     },
     "execution_count": 81,
     "metadata": {},
     "output_type": "execute_result"
    }
   ],
   "source": [
    "df.groupby(\"failures\")['G3'].mean()"
   ]
  },
  {
   "cell_type": "code",
   "execution_count": 82,
   "id": "e1d9efc5",
   "metadata": {},
   "outputs": [
    {
     "data": {
      "text/plain": [
       "failures\n",
       "0    312\n",
       "1     50\n",
       "2     17\n",
       "3     16\n",
       "Name: G3, dtype: int64"
      ]
     },
     "execution_count": 82,
     "metadata": {},
     "output_type": "execute_result"
    }
   ],
   "source": [
    "df.groupby(\"failures\")['G3'].count()"
   ]
  },
  {
   "cell_type": "code",
   "execution_count": 83,
   "id": "b7e67735",
   "metadata": {},
   "outputs": [
    {
     "data": {
      "text/plain": [
       "failures\n",
       "0    4.169633\n",
       "1    4.710561\n",
       "2    4.841609\n",
       "3    4.190764\n",
       "Name: G3, dtype: float64"
      ]
     },
     "execution_count": 83,
     "metadata": {},
     "output_type": "execute_result"
    }
   ],
   "source": [
    "df.groupby(\"failures\")['G3'].std()"
   ]
  },
  {
   "cell_type": "markdown",
   "id": "3d62bfdb",
   "metadata": {},
   "source": [
    "##### The Impact of Extra Paid Classes\n",
    "##### Extra paid classes within the course subject (Math or Portuguese) (binary: yes or no)"
   ]
  },
  {
   "cell_type": "code",
   "execution_count": 85,
   "id": "80525631",
   "metadata": {},
   "outputs": [
    {
     "data": {
      "text/plain": [
       "paid\n",
       "no      9.985981\n",
       "yes    10.922652\n",
       "Name: G3, dtype: float64"
      ]
     },
     "execution_count": 85,
     "metadata": {},
     "output_type": "execute_result"
    }
   ],
   "source": [
    "df.groupby(\"paid\")['G3'].mean()"
   ]
  },
  {
   "cell_type": "code",
   "execution_count": 90,
   "id": "681ee227",
   "metadata": {},
   "outputs": [
    {
     "data": {
      "text/plain": [
       "paid\n",
       "no     214\n",
       "yes    181\n",
       "Name: G3, dtype: int64"
      ]
     },
     "execution_count": 90,
     "metadata": {},
     "output_type": "execute_result"
    }
   ],
   "source": [
    "df.groupby(\"paid\")['G3'].count()"
   ]
  },
  {
   "cell_type": "code",
   "execution_count": 87,
   "id": "c22c81cd",
   "metadata": {},
   "outputs": [
    {
     "data": {
      "text/plain": [
       "paid\n",
       "no     5.126090\n",
       "yes    3.791011\n",
       "Name: G3, dtype: float64"
      ]
     },
     "execution_count": 87,
     "metadata": {},
     "output_type": "execute_result"
    }
   ],
   "source": [
    "df.groupby(\"paid\")['G3'].std()"
   ]
  },
  {
   "cell_type": "markdown",
   "id": "8f249aa6",
   "metadata": {},
   "source": [
    "#### Higher\n",
    "##### Student wants to take higher education (binary: yes or no)"
   ]
  },
  {
   "cell_type": "code",
   "execution_count": 91,
   "id": "5618fe6c",
   "metadata": {},
   "outputs": [
    {
     "data": {
      "text/plain": [
       "higher\n",
       "no      6.800\n",
       "yes    10.608\n",
       "Name: G3, dtype: float64"
      ]
     },
     "execution_count": 91,
     "metadata": {},
     "output_type": "execute_result"
    }
   ],
   "source": [
    "df.groupby(\"higher\")['G3'].mean()"
   ]
  },
  {
   "cell_type": "code",
   "execution_count": 92,
   "id": "4d92a655",
   "metadata": {},
   "outputs": [
    {
     "data": {
      "text/plain": [
       "higher\n",
       "no      20\n",
       "yes    375\n",
       "Name: G3, dtype: int64"
      ]
     },
     "execution_count": 92,
     "metadata": {},
     "output_type": "execute_result"
    }
   ],
   "source": [
    "df.groupby(\"higher\")['G3'].count()"
   ]
  },
  {
   "cell_type": "code",
   "execution_count": 93,
   "id": "d884b400",
   "metadata": {},
   "outputs": [
    {
     "data": {
      "text/plain": [
       "higher\n",
       "no     4.829732\n",
       "yes    4.493422\n",
       "Name: G3, dtype: float64"
      ]
     },
     "execution_count": 93,
     "metadata": {},
     "output_type": "execute_result"
    }
   ],
   "source": [
    "df.groupby(\"higher\")['G3'].std()"
   ]
  },
  {
   "cell_type": "code",
   "execution_count": 66,
   "id": "a9a33915",
   "metadata": {},
   "outputs": [
    {
     "data": {
      "text/plain": [
       "10.415189873417722"
      ]
     },
     "execution_count": 66,
     "metadata": {},
     "output_type": "execute_result"
    }
   ],
   "source": [
    "df['G3'].mean()"
   ]
  },
  {
   "cell_type": "markdown",
   "id": "84691c2c",
   "metadata": {},
   "source": [
    "#### Access to Internet\n",
    "#####  Internet access at home (binary: yes or no)"
   ]
  },
  {
   "cell_type": "code",
   "execution_count": 94,
   "id": "8c51a793",
   "metadata": {},
   "outputs": [
    {
     "data": {
      "text/plain": [
       "internet\n",
       "no      9.409091\n",
       "yes    10.617021\n",
       "Name: G3, dtype: float64"
      ]
     },
     "execution_count": 94,
     "metadata": {},
     "output_type": "execute_result"
    }
   ],
   "source": [
    "df.groupby(\"internet\")['G3'].mean()"
   ]
  },
  {
   "cell_type": "code",
   "execution_count": 95,
   "id": "7c2db66c",
   "metadata": {},
   "outputs": [
    {
     "data": {
      "text/plain": [
       "internet\n",
       "no      66\n",
       "yes    329\n",
       "Name: G3, dtype: int64"
      ]
     },
     "execution_count": 95,
     "metadata": {},
     "output_type": "execute_result"
    }
   ],
   "source": [
    "df.groupby(\"internet\")['G3'].count()"
   ]
  },
  {
   "cell_type": "code",
   "execution_count": 96,
   "id": "5522e26e",
   "metadata": {},
   "outputs": [
    {
     "data": {
      "text/plain": [
       "internet\n",
       "no     4.485797\n",
       "yes    4.580494\n",
       "Name: G3, dtype: float64"
      ]
     },
     "execution_count": 96,
     "metadata": {},
     "output_type": "execute_result"
    }
   ],
   "source": [
    "df.groupby(\"internet\")['G3'].std()"
   ]
  },
  {
   "cell_type": "markdown",
   "id": "9d2d1c39",
   "metadata": {},
   "source": [
    "#### In a Romantic Relationship\n",
    "##### Student in a romantic relationship (binary: yes or no)"
   ]
  },
  {
   "cell_type": "code",
   "execution_count": 97,
   "id": "a91d5408",
   "metadata": {},
   "outputs": [
    {
     "data": {
      "text/plain": [
       "romantic\n",
       "no     10.836502\n",
       "yes     9.575758\n",
       "Name: G3, dtype: float64"
      ]
     },
     "execution_count": 97,
     "metadata": {},
     "output_type": "execute_result"
    }
   ],
   "source": [
    "df.groupby(\"romantic\")['G3'].mean()"
   ]
  },
  {
   "cell_type": "code",
   "execution_count": 98,
   "id": "fde64186",
   "metadata": {},
   "outputs": [
    {
     "data": {
      "text/plain": [
       "romantic\n",
       "no     263\n",
       "yes    132\n",
       "Name: G3, dtype: int64"
      ]
     },
     "execution_count": 98,
     "metadata": {},
     "output_type": "execute_result"
    }
   ],
   "source": [
    "df.groupby(\"romantic\")['G3'].count()"
   ]
  },
  {
   "cell_type": "code",
   "execution_count": 99,
   "id": "ea043a42",
   "metadata": {},
   "outputs": [
    {
     "data": {
      "text/plain": [
       "romantic\n",
       "no     4.385946\n",
       "yes    4.856916\n",
       "Name: G3, dtype: float64"
      ]
     },
     "execution_count": 99,
     "metadata": {},
     "output_type": "execute_result"
    }
   ],
   "source": [
    "df.groupby(\"romantic\")['G3'].std()"
   ]
  },
  {
   "cell_type": "markdown",
   "id": "58726942",
   "metadata": {},
   "source": [
    "#### Impact of Family Relationship\n",
    "##### The quality of student's family relationships (numeric: from 1 - very bad to 5 - excellent)"
   ]
  },
  {
   "cell_type": "code",
   "execution_count": 100,
   "id": "4388ea6f",
   "metadata": {},
   "outputs": [
    {
     "data": {
      "text/plain": [
       "famrel\n",
       "1      8\n",
       "2     18\n",
       "3     68\n",
       "4    195\n",
       "5    106\n",
       "Name: G3, dtype: int64"
      ]
     },
     "execution_count": 100,
     "metadata": {},
     "output_type": "execute_result"
    }
   ],
   "source": [
    "df.groupby(\"famrel\")['G3'].count()"
   ]
  },
  {
   "cell_type": "code",
   "execution_count": 101,
   "id": "63133d4d",
   "metadata": {},
   "outputs": [
    {
     "data": {
      "text/plain": [
       "famrel\n",
       "1    10.625000\n",
       "2     9.888889\n",
       "3    10.044118\n",
       "4    10.358974\n",
       "5    10.830189\n",
       "Name: G3, dtype: float64"
      ]
     },
     "execution_count": 101,
     "metadata": {},
     "output_type": "execute_result"
    }
   ],
   "source": [
    "df.groupby(\"famrel\")['G3'].mean()"
   ]
  },
  {
   "cell_type": "code",
   "execution_count": 102,
   "id": "e9708aa6",
   "metadata": {},
   "outputs": [
    {
     "data": {
      "text/plain": [
       "famrel\n",
       "1    4.838462\n",
       "2    5.550717\n",
       "3    4.647046\n",
       "4    4.395916\n",
       "5    4.733813\n",
       "Name: G3, dtype: float64"
      ]
     },
     "execution_count": 102,
     "metadata": {},
     "output_type": "execute_result"
    }
   ],
   "source": [
    "df.groupby(\"famrel\")['G3'].std()"
   ]
  },
  {
   "cell_type": "markdown",
   "id": "030ab636",
   "metadata": {},
   "source": [
    "#### Health Status"
   ]
  },
  {
   "cell_type": "code",
   "execution_count": 55,
   "id": "2e4bf20a",
   "metadata": {},
   "outputs": [
    {
     "data": {
      "text/plain": [
       "health\n",
       "1    11.872340\n",
       "2    10.222222\n",
       "3    10.010989\n",
       "4    10.106061\n",
       "5    10.397260\n",
       "Name: G3, dtype: float64"
      ]
     },
     "execution_count": 55,
     "metadata": {},
     "output_type": "execute_result"
    }
   ],
   "source": [
    "df.groupby(\"health\")['G3'].mean()"
   ]
  },
  {
   "cell_type": "code",
   "execution_count": 56,
   "id": "092bdad9",
   "metadata": {},
   "outputs": [
    {
     "data": {
      "text/plain": [
       "health\n",
       "1     47\n",
       "2     45\n",
       "3     91\n",
       "4     66\n",
       "5    146\n",
       "Name: G3, dtype: int64"
      ]
     },
     "execution_count": 56,
     "metadata": {},
     "output_type": "execute_result"
    }
   ],
   "source": [
    "df.groupby(\"health\")['G3'].count()"
   ]
  },
  {
   "cell_type": "code",
   "execution_count": 57,
   "id": "1fa41ee6",
   "metadata": {},
   "outputs": [
    {
     "data": {
      "text/plain": [
       "health\n",
       "1    4.351996\n",
       "2    5.497474\n",
       "3    4.183286\n",
       "4    4.871041\n",
       "5    4.417020\n",
       "Name: G3, dtype: float64"
      ]
     },
     "execution_count": 57,
     "metadata": {},
     "output_type": "execute_result"
    }
   ],
   "source": [
    "df.groupby(\"health\")['G3'].std()"
   ]
  },
  {
   "cell_type": "markdown",
   "id": "e2d7b2a6",
   "metadata": {},
   "source": [
    "#### Extracurricular Activities"
   ]
  },
  {
   "cell_type": "code",
   "execution_count": 58,
   "id": "2c921ddb",
   "metadata": {},
   "outputs": [
    {
     "data": {
      "text/plain": [
       "activities\n",
       "no     10.340206\n",
       "yes    10.487562\n",
       "Name: G3, dtype: float64"
      ]
     },
     "execution_count": 58,
     "metadata": {},
     "output_type": "execute_result"
    }
   ],
   "source": [
    "df.groupby(\"activities\")['G3'].mean()"
   ]
  },
  {
   "cell_type": "code",
   "execution_count": 59,
   "id": "e9afc373",
   "metadata": {},
   "outputs": [
    {
     "data": {
      "text/plain": [
       "activities\n",
       "no     194\n",
       "yes    201\n",
       "Name: G3, dtype: int64"
      ]
     },
     "execution_count": 59,
     "metadata": {},
     "output_type": "execute_result"
    }
   ],
   "source": [
    "df.groupby(\"activities\")['G3'].count()"
   ]
  },
  {
   "cell_type": "code",
   "execution_count": 60,
   "id": "f2aaf098",
   "metadata": {},
   "outputs": [
    {
     "data": {
      "text/plain": [
       "activities\n",
       "no     4.488065\n",
       "yes    4.679861\n",
       "Name: G3, dtype: float64"
      ]
     },
     "execution_count": 60,
     "metadata": {},
     "output_type": "execute_result"
    }
   ],
   "source": [
    "df.groupby(\"activities\")['G3'].std()"
   ]
  },
  {
   "cell_type": "markdown",
   "id": "34e94044",
   "metadata": {},
   "source": [
    "#### Impact of Absenteeism from School\n",
    "##### The number of school absences for students (numeric: from 0 to 93)"
   ]
  },
  {
   "cell_type": "code",
   "execution_count": 107,
   "id": "4d3095b2",
   "metadata": {},
   "outputs": [
    {
     "data": {
      "text/plain": [
       "absences\n",
       "0      8.443478\n",
       "1     13.000000\n",
       "2     11.907692\n",
       "3     11.500000\n",
       "4     11.283019\n",
       "5     11.600000\n",
       "6     11.774194\n",
       "7     11.857143\n",
       "8     10.590909\n",
       "9     13.333333\n",
       "10    11.235294\n",
       "11    11.666667\n",
       "12    10.750000\n",
       "13    12.666667\n",
       "14     9.333333\n",
       "15     8.333333\n",
       "16     9.857143\n",
       "17    10.000000\n",
       "18     8.400000\n",
       "19    10.000000\n",
       "20    11.500000\n",
       "21    18.000000\n",
       "22     8.000000\n",
       "23    13.000000\n",
       "24    18.000000\n",
       "25    11.000000\n",
       "26     6.000000\n",
       "28     9.000000\n",
       "30     8.000000\n",
       "38     8.000000\n",
       "40    11.000000\n",
       "54    11.000000\n",
       "56     8.000000\n",
       "75     9.000000\n",
       "Name: G3, dtype: float64"
      ]
     },
     "execution_count": 107,
     "metadata": {},
     "output_type": "execute_result"
    }
   ],
   "source": [
    "df.groupby(\"absences\")['G3'].mean()"
   ]
  },
  {
   "cell_type": "code",
   "execution_count": 122,
   "id": "4cdb1ff1",
   "metadata": {},
   "outputs": [
    {
     "data": {
      "text/plain": [
       "0.2911392405063291"
      ]
     },
     "execution_count": 122,
     "metadata": {},
     "output_type": "execute_result"
    }
   ],
   "source": [
    "df.groupby(\"absences\")['G3'].count()[0] / len(df)"
   ]
  },
  {
   "cell_type": "code",
   "execution_count": 125,
   "id": "d8386fad",
   "metadata": {},
   "outputs": [
    {
     "data": {
      "text/plain": [
       "absences\n",
       "0     115\n",
       "1       3\n",
       "2      65\n",
       "3       8\n",
       "4      53\n",
       "5       5\n",
       "6      31\n",
       "7       7\n",
       "8      22\n",
       "9       3\n",
       "10     17\n",
       "11      3\n",
       "12     12\n",
       "13      3\n",
       "14     12\n",
       "15      3\n",
       "16      7\n",
       "17      1\n",
       "18      5\n",
       "19      1\n",
       "20      4\n",
       "21      1\n",
       "22      3\n",
       "23      1\n",
       "24      1\n",
       "25      1\n",
       "26      1\n",
       "28      1\n",
       "30      1\n",
       "38      1\n",
       "40      1\n",
       "54      1\n",
       "56      1\n",
       "75      1\n",
       "Name: G3, dtype: int64"
      ]
     },
     "execution_count": 125,
     "metadata": {},
     "output_type": "execute_result"
    }
   ],
   "source": [
    "df.groupby('absences')['G3'].count()"
   ]
  },
  {
   "cell_type": "code",
   "execution_count": 126,
   "id": "e070a78b",
   "metadata": {},
   "outputs": [
    {
     "data": {
      "text/plain": [
       "absences\n",
       "0     6.470163\n",
       "1     1.732051\n",
       "2     3.003764\n",
       "3     3.251373\n",
       "4     3.053229\n",
       "5     5.549775\n",
       "6     3.303631\n",
       "7     4.140393\n",
       "8     2.822682\n",
       "9     3.785939\n",
       "10    3.231281\n",
       "11    3.055050\n",
       "12    2.767506\n",
       "13    4.509250\n",
       "14    3.171846\n",
       "15    0.577350\n",
       "16    3.387653\n",
       "17         NaN\n",
       "18    3.049590\n",
       "19         NaN\n",
       "20    2.380476\n",
       "21         NaN\n",
       "22    3.605551\n",
       "23         NaN\n",
       "24         NaN\n",
       "25         NaN\n",
       "26         NaN\n",
       "28         NaN\n",
       "30         NaN\n",
       "38         NaN\n",
       "40         NaN\n",
       "54         NaN\n",
       "56         NaN\n",
       "75         NaN\n",
       "Name: G3, dtype: float64"
      ]
     },
     "execution_count": 126,
     "metadata": {},
     "output_type": "execute_result"
    }
   ],
   "source": [
    "df.groupby(\"absences\")['G3'].std()"
   ]
  },
  {
   "cell_type": "markdown",
   "id": "a25d5bb9",
   "metadata": {},
   "source": [
    "### Step 3.d Select 3 features\n",
    "- Decide on 3 features to use in the report\n",
    "- The decision should be based on\n",
    "    - Actionable insights\n",
    "    - Convey credibility in report\n",
    "    - What is realistic within possibilities (including a budget)"
   ]
  },
  {
   "cell_type": "markdown",
   "id": "28d82546",
   "metadata": {},
   "source": [
    "## Step 4: Report\n",
    "- Present findings\n",
    "- Visualize results\n",
    "- Credibility counts"
   ]
  },
  {
   "cell_type": "code",
   "execution_count": 128,
   "id": "77c43631",
   "metadata": {},
   "outputs": [
    {
     "data": {
      "text/plain": [
       "higher\n",
       "no      20\n",
       "yes    375\n",
       "Name: G3, dtype: int64"
      ]
     },
     "execution_count": 128,
     "metadata": {},
     "output_type": "execute_result"
    }
   ],
   "source": [
    "df.groupby('higher').count()['G3']"
   ]
  },
  {
   "cell_type": "code",
   "execution_count": 68,
   "id": "e733c91b",
   "metadata": {},
   "outputs": [
    {
     "data": {
      "text/plain": [
       "5.063291139240507"
      ]
     },
     "execution_count": 68,
     "metadata": {},
     "output_type": "execute_result"
    }
   ],
   "source": [
    "20 / len(df) * 100"
   ]
  },
  {
   "cell_type": "markdown",
   "id": "28ff4186",
   "metadata": {},
   "source": [
    "## Step 5: Actions\n",
    "### Description\n",
    "- What actions should the schools take?\n",
    "- How can they evaluate the impact?\n",
    "- Remember, this is the main goal."
   ]
  },
  {
   "cell_type": "markdown",
   "id": "68931c16",
   "metadata": {},
   "source": [
    "---\n",
    "#  REPORT ON THE G3 SCORES\n",
    "<br>\n",
    "<br>\n",
    "\n",
    "\n",
    "### Introduction\n",
    "\n",
    "The purpose of this report is to present an analysis of the final grade (G3) of Portugese high school students of Gabriel Pereira (GP) and Mousinho da Silveira (MS). The G3 scores represent the academic performance of the third-grade students. It is important to note that the G3 scores presented in this report are mean scores, indicating the average performance of the students in the respective assessments.\n",
    "<br>\n",
    "\n",
    "### Methodology\n",
    "To conduct this analysis, data was collected from [UC Irvine Machine Learning Repository](https://archive.ics.uci.edu/dataset/320/student+performance). The Maths G3 scores of __395__ third-grade students were included in the analysis. These scores were obtained in 2014.<i>(Cortez, 2014)<i>\n",
    "<br> \n",
    "\n",
    "### Findings and Discussion\n",
    "\n",
    "<ol>\n",
    "    <li><b>School:</b> The dataset includes information from two schools: Gabriel Pereira (GP) and Mousinho da Silveira (MS). There are 349 students from GP and 46 students from MS. On average, students from GP have a G3 score of 10.49, while students from MS have a slightly lower average of 9.85. The standard deviation of G3 scores is 4.63 for GP and 4.24 for MS.</li>\n",
    "\n",
    "<li><b>Sex:</b> The dataset includes information about the sex of the students. There are 208 female students and 187 male students. On average, male students have a slightly higher G3 score (10.91) compared to female students (9.97). The standard deviation of G3 scores is similar for both genders, with males having a slightly lower value (4.50) compared to females (4.62).</li>\n",
    "\n",
    "<li><b>Age:</b> The dataset includes students of different ages, ranging from 15 to 22. The majority of students fall into the 15-18 age range. Students aged 20 and above are rare in the dataset. The average G3 scores decrease with increasing age, with the highest average score of 11.26 for 15-year-old students and the lowest average score of 7.00 for 21-year-old students. However, it's important to note that there is only one student each in the 21 and 22 age categories.</li>\n",
    "\n",
    "<li><b>Travel Time:</b> The dataset includes information about the travel time from home to school. The majority of students have travel times less than 30 minutes. Students with shorter travel times tend to have higher average G3 scores. The average G3 scores decrease as travel time increases: 10.78 for travel time less than 15 minutes, 9.91 for 15-30 minutes, 9.26 for 30 minutes to 1 hour, and 8.75 for more than 1 hour. The standard deviation of G3 scores also tends to increase with longer travel times.</li>\n",
    "\n",
    "<li><b>Study Time:</b> The dataset includes information about the weekly study time of students. Most students study for 2-5 hours per week. As the study time increases, the average G3 scores also increase: 10.05 for less than 2 hours, 10.17 for 2-5 hours, 11.40 for 5-10 hours, and 11.26 for more than 10 hours. The standard deviation of G3 scores is relatively consistent across different study time categories.</li>\n",
    "\n",
    "<li><b>Failures:</b> The dataset includes information about the number of past class failures. Students with no failures have the highest average G3 score of 11.25. As the number of failures increases, the average G3 scores decrease: 8.12 for 1 failure, 6.24 for 2 failures, and 5.69 for 3 failures. The standard deviation of G3 scores tends to decrease as the number of failures increases.</li>\n",
    "\n",
    "<li><b>Paid Classes:</b> The dataset includes information about whether students take extra paid classes within the course subject. Students who take paid classes have a higher average G3 score of 10.92, compared to 9.99 for students who do not take paid classes. The standard deviation of G3 scores is lower for students taking paid classes.</li>\n",
    "\n",
    "<li><b>Higher Education Aspirations:</b> The dataset includes information about whether students have aspirations for higher education. Students who aspire to pursue higher education have a higher average G3 score of 10.62, compared to 8.93 for students who do not aspire to continue their education. The standard deviation of G3 scores is also lower for students with higher education aspirations.</li>\n",
    "\n",
    "<li><b>Internet Access:</b> The dataset includes information about whether students have internet access at home. Students with internet access have a slightly higher average G3 score of 10.62, compared to 10.42 for students without internet access. However, the difference in average scores is relatively small, and the standard deviation of G3 scores is similar for both groups.</li>\n",
    "\n",
    "<li><b>Romantic Relationships:</b> The dataset includes information about whether students are in a romantic relationship. Students in a romantic relationship have a slightly lower average G3 score of 9.80, compared to 10.41 for students who are not in a relationship. However, the difference in average scores is not substantial, and the standard deviation of G3 scores is similar for both groups.</li>\n",
    "\n",
    "<li><b>Family Relationships:</b> The dataset includes information about the quality of family relationships reported by the students. Students with better family relationships have a slightly higher average G3 score of 10.29, compared to 9.66 for students with weaker family relationships. The standard deviation of G3 scores is slightly lower for students with better family relationships.</li>\n",
    "\n",
    "<li><b>Health Status:</b> The dataset includes information about the self-reported health status of students. Students who perceive their health status as good or very good have a slightly higher average G3 score of 10.37, compared to 9.08 for students who perceive their health as average, bad, or very bad. However, the difference in average scores is not significant, and the standard deviation of G3 scores is similar for both groups.</li>\n",
    "\n",
    "<li><b>Extracurricular Activities:</b> The dataset includes information about whether students participate in extracurricular activities. Students who engage in extracurricular activities have a slightly higher average G3 score of 10.61, compared to 10.14 for students who do not participate in such activities. The standard deviation of G3 scores is similar for both groups.</li>\n",
    "\n",
    "<li><b>Absenteeism:</b> The dataset includes information about the number of school absences. Students with fewer absences tend to have higher average G3 scores. The average G3 score is 11.54 for students with 0-5 absences, 9.28 for 6-10 absences, 8.43 for 11-15 absences, and 7.00 for more than 15 absences. The standard deviation of G3 scores tends to increase with a higher number of absences.</li>\n",
    "</ol>\n",
    "<br>\n",
    "\n",
    "### Recommendations\n",
    "\n",
    "Based on the analysis of the factors influencing G3 scores at Gabriel Pereira (GP) and Mousinho da Silveira (MS), the following recommendations can be made to help improve the G3 scores:\n",
    "\n",
    "<ol>\n",
    "    \n",
    "<li><b>Provide additional support for students from Mousinho da Silveira (MS) school:</b> As the average G3 score for students from MS is slightly lower compared to Gabriel Pereira (GP) school, it may be beneficial to provide targeted support and resources to help bridge this gap and improve academic performance.</li>\n",
    "\n",
    "<li><b>Implement interventions to address gender-based performance disparities:</b> Although the difference in average G3 scores between male and female students is relatively small, it may be helpful to explore and address any underlying factors contributing to this disparity. Providing equal opportunities, resources, and support for both male and female students can contribute to overall improvement in academic achievement.</li>\n",
    "\n",
    "<li><b>Identify and support students at risk of failure:</b> Students with a history of class failures tend to have lower G3 scores. Implement targeted interventions such as tutoring, mentoring, or additional academic support programs to help these students catch up, improve their performance, and reduce the likelihood of future failures.</li>\n",
    "\n",
    "<li><b>Encourage participation in paid classes and extracurricular activities:</b> Students who take paid classes and engage in extracurricular activities tend to have slightly higher G3 scores. Promote the benefits of these activities and ensure equal access for all students. Consider expanding the availability of paid classes and extracurricular options to provide more opportunities for academic enrichment and personal growth.</li>\n",
    "\n",
    "<li><b>Foster a positive and supportive family environment:</b> Students with better family relationships demonstrate slightly higher G3 scores. Encourage parent involvement, organize family engagement programs, and provide resources for parents to support their children's academic progress. Promoting positive family-school partnerships can contribute to improved student outcomes.</li>\n",
    "\n",
    "<li><b>Promote regular attendance and address absenteeism:</b> Students with fewer absences tend to have higher G3 scores. Implement strategies to encourage regular attendance, such as rewards for good attendance, communication with parents about the importance of attendance, and targeted interventions for students with high absenteeism rates. Addressing attendance issues can positively impact student engagement and achievement.</li>\n",
    "\n",
    "<li><b>Provide resources and support for students without internet access:</b> Although the difference in G3 scores between students with and without internet access is relatively small, ensuring equitable access to online resources and educational technologies can further support student learning. Explore options such as providing internet access in school or facilitating access to online resources through alternative means.</li>\n",
    "\n",
    "<li><b>Foster a culture of higher education aspirations:</b> Students with aspirations for higher education tend to have higher G3 scores. Encourage and support students in their pursuit of higher education by providing guidance, resources, and information about college and career pathways. Offer mentoring programs, college awareness initiatives, and workshops to inspire and prepare students for future educational opportunities.</li>\n",
    "\n",
    "</ol>\n",
    "\n",
    "These recommendations should be considered in conjunction with the strategies below. Regular evaluation and monitoring of the implemented interventions will help determine their effectiveness and guide further improvements in the academic performance of third-grade students at  Gabriel Pereira (GP) and Mousinho da Silveira (MS).\n",
    "<br>\n",
    "\n",
    "### Strategies\n",
    "    \n",
    "Here are some specific strategies that can be implemented based on the recommendations:\n",
    "\n",
    "<ul>\n",
    "<li><b>Support for students with past failures:</b> Provide remedial classes or tutoring sessions to help students catch up on missed concepts and improve their understanding of the subject matter. Offer individualized support and mentoring to address specific learning gaps and encourage academic progress.</li>\n",
    "\n",
    "<li><b>Promoting healthier family relationships:</b> Organize workshops or seminars for parents and guardians to enhance their communication and parenting skills. Foster a positive and supportive school environment that encourages family involvement through events like parent-teacher meetings and family fun days.</li>\n",
    "\n",
    "<li><b>Encouraging participation in extracurricular activities:</b> Expand the range of extracurricular activities available to students, such as sports, arts, clubs, or community service. Highlight the benefits of participation, such as developing social skills, fostering teamwork, and promoting holistic development. Provide resources and support for students to explore their interests and passions outside of the classroom.</li>\n",
    "\n",
    "<li><b>Addressing absenteeism:</b> Implement a comprehensive attendance tracking system to monitor and identify students with high levels of absenteeism. Establish a support system to address the underlying causes of absenteeism, such as health issues, personal challenges, or disengagement from school. Offer counseling services, mentorship programs, or alternative learning options to help students stay on track academically.</li>\n",
    "\n",
    "<li><b>Promoting equal access to resources:</b> Implement initiatives to bridge the resource gap between students, such as providing scholarships or financial assistance for students who cannot afford paid classes. Ensure access to reliable internet and technology for all students, either through school resources or partnerships with community organizations. Offer study materials and resources to students who may not have access to them at home.</li>\n",
    "\n",
    "<li><b>Engaging students in goal-setting and self-motivation:</b> Conduct workshops or seminars on goal-setting, time management, and study skills to empower students to take ownership of their academic progress. Provide guidance on creating study schedules, setting achievable goals, and monitoring their own progress. Foster a growth mindset and resilience by emphasizing the importance of effort, perseverance, and learning from setbacks.</li>\n",
    "\n",
    "<li><b>Collaboration and coordination among teachers and staff:</b> Encourage collaboration among teachers, counselors, and support staff to share insights and strategies for student success. Develop a system for regular communication and collaboration to ensure a holistic approach to student support. Provide professional development opportunities for staff to enhance their knowledge and skills in supporting student academic achievement.</li>\n",
    "<br>\n",
    "    \n",
    "### Credibility\n",
    "To ensure the credibility of the findings, the analysis was conducted using reliable data collected from a representative sample of __395__ third-grade students. However, it is crucial to acknowledge the limitations of mean scores, as they provide an average representation and may not fully capture the individual variances and unique characteristics of each student's performance.\n",
    "<br>\n",
    "\n",
    "### Conclusion:\n",
    "Based on the analysis of the G3 scores at Gabriel Pereira (GP) and Mousinho da Silveira (MS), the mean scores indicates the average performance of the third-grade students as it partains to different variables. It is advisable to consider the recommendations to further explore the factors that contribute to this score and identify areas for improvement to enhance the overall academic achievement of the students.\n",
    "\n",
    "Thank you for your attention to this report. If you have any questions or require further information, please do not hesitate to contact me.\n",
    "<br>\n",
    "<br>\n",
    "---\n",
    "\n",
    "\n",
    "#### REFERENCE\n",
    "<ul><li>Cortez, P. (2014). Student Performance. UCI Machine Learning Repository. https://doi.org/10.24432/C5TG7T.</li></ul>"
   ]
  }
 ],
 "metadata": {
  "kernelspec": {
   "display_name": "Python 3 (ipykernel)",
   "language": "python",
   "name": "python3"
  },
  "language_info": {
   "codemirror_mode": {
    "name": "ipython",
    "version": 3
   },
   "file_extension": ".py",
   "mimetype": "text/x-python",
   "name": "python",
   "nbconvert_exporter": "python",
   "pygments_lexer": "ipython3",
   "version": "3.9.13"
  }
 },
 "nbformat": 4,
 "nbformat_minor": 5
}
